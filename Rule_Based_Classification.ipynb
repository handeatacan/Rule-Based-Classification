Rule Based Classification For Potential Income of New Customers
Business Problem:
A game company wants to create new level-based customer definitions (personas) by using some features of its customers. They want to create segments according to these new customer definitions and estimate how much the company will earn from the new customers according to these segments.

The Persona.csv dataset contains the prices of the products sold by an international game company and some demographic information about the users who buy these products. The data set consists of records created in each sales transaction. This means that a user with certain demographic characteristics may have made more than one purchase.

PRICE – Customer's spending amount
SOURCE – The type of device the customer is connecting to
SEX – Gender of the client
COUNTRY – Country of the customer
AGE – Age of the customer

1. Importing the Libraries and Uploading Dataset
import pandas as pd
import numpy as np
df = pd.read_csv("persona.csv")
df.head()
PRICE	SOURCE	SEX	COUNTRY	AGE
0	39	android	male	bra	17
1	39	android	male	bra	17
2	49	android	male	bra	17
3	29	android	male	tur	17
4	49	android	male	tur	17
2. General Information About Dataset
    print("###############################    Shape  ##################################")
    print(df.shape)
    print("###############################    Types  ##################################")
    print(df.dtypes)
    print("###############################    Head   ##################################")
    print(df.head())
    print("###############################    Tail   ##################################")
    print(df.tail())
    print("###############################    NA     ##################################")
    print(df.isnull().sum())
    print("############################### Quantiles ##################################")
    print(df.describe([0, 0.05, 0.50, 0.95, 0.99, 1]).T)
###############################    Shape  ##################################
(5000, 5)
###############################    Types  ##################################
PRICE       int64
SOURCE     object
SEX        object
COUNTRY    object
AGE         int64
dtype: object
###############################    Head   ##################################
   PRICE   SOURCE   SEX COUNTRY  AGE
0     39  android  male     bra   17
1     39  android  male     bra   17
2     49  android  male     bra   17
3     29  android  male     tur   17
4     49  android  male     tur   17
###############################    Tail   ##################################
      PRICE   SOURCE     SEX COUNTRY  AGE
4995     29  android  female     bra   31
4996     29  android  female     bra   31
4997     29  android  female     bra   31
4998     39  android  female     bra   31
4999     29  android  female     bra   31
###############################    NA     ##################################
PRICE      0
SOURCE     0
SEX        0
COUNTRY    0
AGE        0
dtype: int64
############################### Quantiles ##################################
        count     mean        std   min    0%    5%   50%   95%   99%  100%  \
PRICE  5000.0  34.1320  12.464897   9.0   9.0  19.0  39.0  49.0  59.0  59.0   
AGE    5000.0  23.5814   8.995908  15.0  15.0  15.0  21.0  43.0  53.0  66.0   

        max  
PRICE  59.0  
AGE    66.0  
 3. Let's Find Answers for Belows Questions
3.1 How many unique SOURCE are there? What are their frequencies?
df["SOURCE"].nunique() # unique source
2
df["SOURCE"].value_counts() # frequencies
android    2974
ios        2026
Name: SOURCE, dtype: int64
 3.2 How many unique PRICEs are there?
df["PRICE"].nunique()
6
3.3 How many sales were made from which PRICE?
df.groupby("PRICE")["PRICE"].count()
PRICE
9      200
19     992
29    1305
39    1260
49    1031
59     212
Name: PRICE, dtype: int64
# or
df["PRICE"].value_counts()
29    1305
39    1260
49    1031
19     992
59     212
9      200
Name: PRICE, dtype: int64
 3.4 How many sales from which country?
df.groupby("COUNTRY")["COUNTRY"].count()
COUNTRY
bra    1496
can     230
deu     455
fra     303
tur     451
usa    2065
Name: COUNTRY, dtype: int64
# or
df["COUNTRY"].value_counts()
usa    2065
bra    1496
deu     455
tur     451
fra     303
can     230
Name: COUNTRY, dtype: int64
3.5 How much was earned in total from sales by country?
df.groupby("COUNTRY")["PRICE"].sum()
COUNTRY
bra    51354
can     7730
deu    15485
fra    10177
tur    15689
usa    70225
Name: PRICE, dtype: int64
# or let's use agg()
df.groupby("COUNTRY").agg({"PRICE":"sum"})
PRICE
COUNTRY	
bra	51354
can	7730
deu	15485
fra	10177
tur	15689
usa	70225
 3.6 What are the sales amount according to SOURCE types?
df.groupby("SOURCE")["PRICE"].sum()
SOURCE
android    101636
ios         69024
Name: PRICE, dtype: int64
# or let's use agg()
df.groupby("SOURCE").agg({"PRICE":"sum"})
PRICE
SOURCE	
android	101636
ios	69024
 3.7 What are the PRICE averages by country?
df.groupby("COUNTRY")["PRICE"].mean()
COUNTRY
bra    34.327540
can    33.608696
deu    34.032967
fra    33.587459
tur    34.787140
usa    34.007264
Name: PRICE, dtype: float64
# or let's use agg()
df.groupby("COUNTRY").agg({"PRICE":"mean"})
PRICE
COUNTRY	
bra	34.327540
can	33.608696
deu	34.032967
fra	33.587459
tur	34.787140
usa	34.007264
3.8 What are the PRICE averages by SOURCEs?
df.groupby("SOURCE")["PRICE"].mean()
SOURCE
android    34.174849
ios        34.069102
Name: PRICE, dtype: float64
# or let's use agg()
df.groupby("SOURCE").agg({"PRICE":"mean"})
PRICE
SOURCE	
android	34.174849
ios	34.069102
3.9 What are the PRICE averages in the COUNTRY - SOURCE?
df.groupby(["COUNTRY", "SOURCE"])["PRICE"].mean()
COUNTRY  SOURCE 
bra      android    34.387029
         ios        34.222222
can      android    33.330709
         ios        33.951456
deu      android    33.869888
         ios        34.268817
fra      android    34.312500
         ios        32.776224
tur      android    36.229437
         ios        33.272727
usa      android    33.760357
         ios        34.371703
Name: PRICE, dtype: float64
# or let's use agg()
df.groupby(["COUNTRY", "SOURCE"]).agg({"PRICE":"mean"})
PRICE
COUNTRY	SOURCE	
bra	android	34.387029
ios	34.222222
can	android	33.330709
ios	33.951456
deu	android	33.869888
ios	34.268817
fra	android	34.312500
ios	32.776224
tur	android	36.229437
ios	33.272727
usa	android	33.760357
ios	34.371703
 4. What are the average earnings by COUNTRY - SOURCE - SEX - AGE?
To be able to create new level based customer definitions, we must calculate the average price paid by customers by COUNTRY - SOURCE - SEX - AGE first.

agg_df = df.groupby(["COUNTRY", "SOURCE", "SEX", "AGE"], as_index=False)["PRICE"] \
    .mean().sort_values("PRICE", ascending=False, ignore_index=True)
agg_df.head()
COUNTRY	SOURCE	SEX	AGE	PRICE
0	bra	android	male	46	59.0
1	usa	android	male	36	59.0
2	fra	android	female	24	59.0
3	usa	ios	male	32	54.0
4	deu	android	female	36	49.0
 5. Now convert the Age variable to a categorical variable and add it to agg_df
Since we are creating level-based customer definitions, we must change the type of age variable to a categorical variable. In order to do that, we must create intervals for the age variable.

agg_df['AGE_CAT'] = pd.cut(agg_df["AGE"],bins=[0,18,23,30,40,70],labels=['0_18','19_23','24_30','31_40','41_70'])
agg_df
COUNTRY	SOURCE	SEX	AGE	PRICE	AGE_CAT
0	bra	android	male	46	59.0	41_70
1	usa	android	male	36	59.0	31_40
2	fra	android	female	24	59.0	24_30
3	usa	ios	male	32	54.0	31_40
4	deu	android	female	36	49.0	31_40
...	...	...	...	...	...	...
343	usa	ios	female	38	19.0	31_40
344	usa	ios	female	30	19.0	24_30
345	can	android	female	27	19.0	24_30
346	fra	android	male	18	19.0	0_18
347	deu	android	male	26	9.0	24_30
348 rows × 6 columns

6. Define new level-based customers (personas) and add them as variables to the dataset
To create our level-based customer definition variable we will concatenate our variables

col_list = ['COUNTRY','SOURCE','SEX','AGE_CAT']
agg_df['customers_level_based'] = agg_df[col_list].apply('_'.join, axis=1).str.upper()

agg_df
COUNTRY	SOURCE	SEX	AGE	PRICE	AGE_CAT	customers_level_based
0	bra	android	male	46	59.0	41_70	BRA_ANDROID_MALE_41_70
1	usa	android	male	36	59.0	31_40	USA_ANDROID_MALE_31_40
2	fra	android	female	24	59.0	24_30	FRA_ANDROID_FEMALE_24_30
3	usa	ios	male	32	54.0	31_40	USA_IOS_MALE_31_40
4	deu	android	female	36	49.0	31_40	DEU_ANDROID_FEMALE_31_40
...	...	...	...	...	...	...	...
343	usa	ios	female	38	19.0	31_40	USA_IOS_FEMALE_31_40
344	usa	ios	female	30	19.0	24_30	USA_IOS_FEMALE_24_30
345	can	android	female	27	19.0	24_30	CAN_ANDROID_FEMALE_24_30
346	fra	android	male	18	19.0	0_18	FRA_ANDROID_MALE_0_18
347	deu	android	male	26	9.0	24_30	DEU_ANDROID_MALE_24_30
348 rows × 7 columns

Attention! After creating customers_level_based values with list comprehension, these values need to be unique. For example, it could be more than one of the following: USA_ANDROID_MALE_0_18. It is necessary to take them to groupby and get the price averages.

# let's check
agg_df["customers_level_based"].value_counts()
BRA_ANDROID_MALE_24_30      7
USA_ANDROID_MALE_41_70      7
USA_IOS_FEMALE_24_30        7
BRA_ANDROID_FEMALE_24_30    7
USA_ANDROID_MALE_24_30      7
                           ..
TUR_ANDROID_MALE_41_70      1
CAN_ANDROID_MALE_19_23      1
TUR_IOS_MALE_31_40          1
TUR_IOS_MALE_24_30          1
CAN_ANDROID_FEMALE_24_30    1
Name: customers_level_based, Length: 109, dtype: int64
# Then we will make it unique customers_level_based values with groupby and get the price averages.
agg_df2 = agg_df.groupby("customers_level_based", as_index = False).agg({"PRICE": "mean"})
agg_df2
customers_level_based	PRICE
0	BRA_ANDROID_FEMALE_0_18	35.645303
1	BRA_ANDROID_FEMALE_19_23	34.077340
2	BRA_ANDROID_FEMALE_24_30	33.863946
3	BRA_ANDROID_FEMALE_31_40	34.898326
4	BRA_ANDROID_FEMALE_41_70	36.737179
...	...	...
104	USA_IOS_MALE_0_18	33.983495
105	USA_IOS_MALE_19_23	34.901872
106	USA_IOS_MALE_24_30	34.838143
107	USA_IOS_MALE_31_40	36.206324
108	USA_IOS_MALE_41_70	35.750000
109 rows × 2 columns

7. Create a new variable called SEGMENT.
We are doing this by dividing the average price into four groups called A, B, C, and D

agg_df2["SEGMENT"] = pd.qcut(agg_df2["PRICE"], 4, labels=["D", "C", "B", "A"])
agg_df2
customers_level_based	PRICE	SEGMENT
0	BRA_ANDROID_FEMALE_0_18	35.645303	B
1	BRA_ANDROID_FEMALE_19_23	34.077340	C
2	BRA_ANDROID_FEMALE_24_30	33.863946	C
3	BRA_ANDROID_FEMALE_31_40	34.898326	B
4	BRA_ANDROID_FEMALE_41_70	36.737179	A
...	...	...	...
104	USA_IOS_MALE_0_18	33.983495	C
105	USA_IOS_MALE_19_23	34.901872	B
106	USA_IOS_MALE_24_30	34.838143	B
107	USA_IOS_MALE_31_40	36.206324	A
108	USA_IOS_MALE_41_70	35.750000	B
109 rows × 3 columns

Let's look at some statistics of the SEGMENTs we created:

agg_df2.groupby("SEGMENT").agg({"PRICE": ['mean','min','max','std','sum','count']}).sort_values("SEGMENT",ascending = False)
PRICE
mean	min	max	std	sum	count
SEGMENT						
A	38.691234	36.060606	45.428571	2.581762	1044.663328	27
B	34.999645	34.103727	36.000000	0.636502	944.990411	27
C	33.509674	32.500000	34.077340	0.492587	904.761209	27
D	29.206780	19.000000	32.333333	3.638037	817.789833	28
 8. Let's classify new customers and estimate how much revenue we will earn from them.
new_user_list = ["TUR_ANDROID_FEMALE_31_40",
                 "FRA_IOS_FEMALE_31_40",
                 "BRA_IOS_MALE_41_70",
                 "DEU_ANDROID_MALE_19_23",
                 "USA_ANDROID_FEMALE_24_30",
                 "CAN_IOS_MALE_41_70"]
                 
for user in new_user_list:
    print(agg_df2[agg_df2["customers_level_based"] == user])
    print("\n----------------------------------------------\n")
       customers_level_based      PRICE SEGMENT
72  TUR_ANDROID_FEMALE_31_40  41.833333       A

----------------------------------------------

   customers_level_based      PRICE SEGMENT
63  FRA_IOS_FEMALE_31_40  32.818182       C

----------------------------------------------

   customers_level_based      PRICE SEGMENT
19    BRA_IOS_MALE_41_70  31.083694       D

----------------------------------------------

     customers_level_based      PRICE SEGMENT
40  DEU_ANDROID_MALE_19_23  36.070707       A

----------------------------------------------

       customers_level_based      PRICE SEGMENT
91  USA_ANDROID_FEMALE_24_30  31.269981       D

----------------------------------------------

   customers_level_based  PRICE SEGMENT
33    CAN_IOS_MALE_41_70   31.0       D
